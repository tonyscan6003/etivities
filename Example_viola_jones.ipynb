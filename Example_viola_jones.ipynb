{
  "nbformat": 4,
  "nbformat_minor": 0,
  "metadata": {
    "colab": {
      "provenance": [],
      "authorship_tag": "ABX9TyM8e4AAFxadI4FqJQZ5XYmU",
      "include_colab_link": true
    },
    "kernelspec": {
      "name": "python3",
      "display_name": "Python 3"
    }
  },
  "cells": [
    {
      "cell_type": "markdown",
      "metadata": {
        "id": "view-in-github",
        "colab_type": "text"
      },
      "source": [
        "<a href=\"https://colab.research.google.com/github/tonyscan6003/etivities/blob/main/Example_viola_jones.ipynb\" target=\"_parent\"><img src=\"https://colab.research.google.com/assets/colab-badge.svg\" alt=\"Open In Colab\"/></a>"
      ]
    },
    {
      "cell_type": "markdown",
      "metadata": {
        "id": "YSf1lnHL0RC2"
      },
      "source": [
        "# Viola Jones Algorithm\n",
        "In this example we will investigate using a pre-trained cascade of classifiers from the OpenCV Library to perform face detection.\n",
        "\n",
        "![Cascade of Classifiers](https://github.com/tonyscan6003/etivities/blob/main/viola_jone_cascade.jpg?raw=true)\n",
        "\n",
        "The notebook is setup with a simple face detection. You can see a full range of possible cascades that can detect other objects [here](https://github.com/opencv/opencv/tree/master/data/haarcascades)\n",
        "\n",
        "As an exercise:\n",
        " 1. Try some other images of people by changing the image url link and see how the cascade of classifiers performs at face detection\n",
        " 2. Try changing the scale and minNeighbors parameters and observe the effect on face detection.\n",
        " 3. Try changing the to use some of the other cascades (such as the cat face detectector) and see how they perform with appropiate images."
      ]
    },
    {
      "cell_type": "markdown",
      "metadata": {
        "id": "47DV0ggPtEYc"
      },
      "source": [
        "##**HouseKeeping**:\n",
        " Import Packages, define image read function, install OpenCV pre-trained cascade classifiers"
      ]
    },
    {
      "cell_type": "code",
      "metadata": {
        "id": "Pu_dVVKT-vRV"
      },
      "source": [
        "# Import libraries\n",
        "import numpy as np\n",
        "import urllib.request\n",
        "import cv2\n",
        "import numpy as np\n",
        "from matplotlib import pyplot as plt\n",
        "\n",
        "# Function to read images from the Web.\n",
        "def url_to_image(url):\n",
        "\tresp = urllib.request.urlopen(url)\n",
        "\ttemp_image = np.asarray(bytearray(resp.read()), dtype=\"uint8\")\n",
        "\ttemp_image = cv2.imdecode(temp_image, cv2.IMREAD_COLOR)\n",
        "\ttemp_image = cv2.cvtColor(temp_image, cv2.COLOR_BGR2RGB) # OpenCV defaults to BGR, but we need RGB here..\n",
        "\treturn temp_image"
      ],
      "execution_count": null,
      "outputs": []
    },
    {
      "cell_type": "markdown",
      "metadata": {
        "id": "qK0kdSwmDr6V"
      },
      "source": [
        "We also need to load some additional data from OpenCV that contains the cascade classifiers that we are going to use."
      ]
    },
    {
      "cell_type": "code",
      "metadata": {
        "id": "2sC3eVFU-441",
        "outputId": "3f1a426d-49e6-4ddc-b307-1b6f0d6ba593",
        "colab": {
          "base_uri": "https://localhost:8080/",
          "height": 281
        }
      },
      "source": [
        "!apt install opencv-data"
      ],
      "execution_count": null,
      "outputs": [
        {
          "output_type": "stream",
          "text": [
            "Reading package lists... Done\n",
            "Building dependency tree       \n",
            "Reading state information... Done\n",
            "The following NEW packages will be installed:\n",
            "  opencv-data\n",
            "0 upgraded, 1 newly installed, 0 to remove and 21 not upgraded.\n",
            "Need to get 1,196 kB of archives.\n",
            "After this operation, 10.1 MB of additional disk space will be used.\n",
            "Get:1 http://archive.ubuntu.com/ubuntu bionic-updates/universe amd64 opencv-data all 3.2.0+dfsg-4ubuntu0.1 [1,196 kB]\n",
            "Fetched 1,196 kB in 1s (1,411 kB/s)\n",
            "Selecting previously unselected package opencv-data.\n",
            "(Reading database ... 144611 files and directories currently installed.)\n",
            "Preparing to unpack .../opencv-data_3.2.0+dfsg-4ubuntu0.1_all.deb ...\n",
            "Unpacking opencv-data (3.2.0+dfsg-4ubuntu0.1) ...\n",
            "Setting up opencv-data (3.2.0+dfsg-4ubuntu0.1) ...\n"
          ],
          "name": "stdout"
        }
      ]
    },
    {
      "cell_type": "markdown",
      "metadata": {
        "id": "ijLpCaGBF9nv"
      },
      "source": [
        "##**Load and display Test Images**:\n",
        "We can load different images to test by changing the URL in the cell below."
      ]
    },
    {
      "cell_type": "code",
      "metadata": {
        "id": "HKNDqnQ6_6_u"
      },
      "source": [
        "# Read Test Image URL with People faces or Cat faces!\n",
        "img_url = \"https://upload.wikimedia.org/wikipedia/commons/thumb/9/98/Friends_become_family.jpg/1024px-Friends_become_family.jpg\"\n",
        "img = url_to_image(img_url)"
      ],
      "execution_count": null,
      "outputs": []
    },
    {
      "cell_type": "code",
      "metadata": {
        "id": "65QSweqYAE3l"
      },
      "source": [
        "gray = cv2.cvtColor(img, cv2.COLOR_BGR2GRAY)\n",
        "plt.figure(figsize=(14, 10), dpi=80)\n",
        "plt.imshow(gray,'gray')\n",
        "plt.show()"
      ],
      "execution_count": null,
      "outputs": []
    },
    {
      "cell_type": "markdown",
      "metadata": {
        "id": "EUDJrWJmGjFa"
      },
      "source": [
        "##**Define pre-trained classifier**:\n",
        "In the cell below we can set the paths to the data for different cascades and define each cascade classifier using the cv2.CascadeClassifier() command."
      ]
    },
    {
      "cell_type": "code",
      "metadata": {
        "id": "ot0OPggHAdOu"
      },
      "source": [
        "\n",
        "\n",
        "from os.path import realpath, normpath\n",
        "\n",
        "face_cascade_xml_path = \"/usr/share/opencv/haarcascades/haarcascade_frontalface_default.xml\"\n",
        "#cat_face_cascade_path = \"/usr/share/opencv/haarcascades/haarcascade_frontalcatface.xml\"\n",
        "\n",
        "# Setup your cascade with one of the paths above\n",
        "my_cascade = cv2.CascadeClassifier(face_cascade_xml_path)\n",
        "\n"
      ],
      "execution_count": null,
      "outputs": []
    },
    {
      "cell_type": "markdown",
      "metadata": {
        "id": "whT3d3KRKm2-"
      },
      "source": [
        "##**Run the face detector**:\n",
        "We do this by using the .detectMultiScale method with the classifier we have setup. Note the scale factor `scale` that sets up the scaling in the image pyramid for th detector. Setting this close to 1 increases the number of scaled images that will be tested. The `minNeighbors` parameter helps to reduce the number of false positive detections see explaination here: https://stackoverflow.com/questions/22249579/opencv-detectmultiscale-minneighbors-parameter\n",
        "\n",
        "You can change the value of scale and minNeighbors and observe the effect on detections yourself.\n"
      ]
    },
    {
      "cell_type": "code",
      "metadata": {
        "id": "AGNFKk4DKl-z"
      },
      "source": [
        "# Now lets run the face detector cascade against this grayscale image\n",
        "scale = 1.03\n",
        "minNeighbors = 6\n",
        "foundObject = my_cascade.detectMultiScale(gray, scale, minNeighbors)"
      ],
      "execution_count": null,
      "outputs": []
    },
    {
      "cell_type": "markdown",
      "metadata": {
        "id": "J7NMO99GHivf"
      },
      "source": [
        "##**Plot image with the bounding boxes**:\n",
        "Bounding boxes for for face or other object detections in the original Image."
      ]
    },
    {
      "cell_type": "code",
      "metadata": {
        "id": "Wy1Byt34BctN"
      },
      "source": [
        "# setup colors and line thickness for drawing bounding boxes\n",
        "greenColor = (0, 255, 0)\n",
        "redColor = (255, 0, 0)\n",
        "lineThickness = 2\n",
        "\n",
        "detectionsImg = img\n",
        "# now process each face/object found,\n",
        "for (fx, fy, fw, fh) in foundObject:\n",
        "    # draw the bounding box for each face\n",
        "    cv2.rectangle(detectionsImg, (fx, fy), (fx + fw, fy + fh), redColor, lineThickness)\n",
        "\n",
        "plt.figure(figsize=(14, 10), dpi=80)\n",
        "plt.imshow(img)\n",
        "plt.show()"
      ],
      "execution_count": null,
      "outputs": []
    }
  ]
}
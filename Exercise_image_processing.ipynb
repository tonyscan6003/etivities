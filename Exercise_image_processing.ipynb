{
  "nbformat": 4,
  "nbformat_minor": 0,
  "metadata": {
    "colab": {
      "provenance": [],
      "authorship_tag": "ABX9TyMD6RDkpAcqnYxstsr8WtBK",
      "include_colab_link": true
    },
    "kernelspec": {
      "name": "python3",
      "display_name": "Python 3"
    }
  },
  "cells": [
    {
      "cell_type": "markdown",
      "metadata": {
        "id": "view-in-github",
        "colab_type": "text"
      },
      "source": [
        "<a href=\"https://colab.research.google.com/github/tonyscan6003/etivities/blob/main/Exercise_image_processing.ipynb\" target=\"_parent\"><img src=\"https://colab.research.google.com/assets/colab-badge.svg\" alt=\"Open In Colab\"/></a>"
      ]
    },
    {
      "cell_type": "markdown",
      "metadata": {
        "id": "hYT2IP6t3hcu"
      },
      "source": [
        "# Linear & Non Linear Image Processing\n",
        "In this exercise we will focus on performing filtering of images with both linear and non-linear filters. We will learn how to perform convolution with gaussian kernel and use this to blur images. We will show how to remove noise from images using the median & bilateral filters and observer their effect on the test image.\n",
        "\n",
        ""
      ]
    },
    {
      "cell_type": "markdown",
      "metadata": {
        "id": "YbxycaCDMhOW"
      },
      "source": [
        "**Housekeeping**:\n",
        "Import packages, read test image, define helper functions. Note that the function `img_noise` can be used to add two different noise types to the image, we will later see the performance of linear and non-linear filters operating on the images with different noise types. [(How to add gaussian, salt & pepper noise to an image)](https://stackoverflow.com/questions/22937589/how-to-add-noise-gaussian-salt-and-pepper-etc-to-image-in-python-with-opencv)"
      ]
    },
    {
      "cell_type": "code",
      "metadata": {
        "id": "sZXJXb2VDqFV"
      },
      "source": [
        "import numpy as np\n",
        "from skimage import feature\n",
        "from scipy import signal\n",
        "import cv2\n",
        "import matplotlib.pyplot as plt\n",
        "import urllib.request\n"
      ],
      "execution_count": null,
      "outputs": []
    },
    {
      "cell_type": "code",
      "metadata": {
        "id": "9u05v42xGMho"
      },
      "source": [
        "# function to read images from Web addresses.\n",
        "def url_to_image(url):\n",
        "\tresp = urllib.request.urlopen(url)\n",
        "\ttemp_image = np.asarray(bytearray(resp.read()), dtype=\"uint8\")\n",
        "\ttemp_image = cv2.imdecode(temp_image, cv2.IMREAD_COLOR)\n",
        "\ttemp_image = cv2.cvtColor(temp_image, cv2.COLOR_BGR2RGB) # OpenCV defaults to BGR, but we need RGB\n",
        "\treturn temp_image\n",
        "\n",
        "# Function to add eith gaussian or salt and pepper noise to image\n",
        "def img_noise(image,noise_type):\n",
        "  image = image.astype(np.float32)/255\n",
        "  if noise_type == 'none':\n",
        "\t     return image\n",
        "  elif noise_type == 'gauss':\n",
        "       row,col,ch= image.shape\n",
        "       mean = 0.0\n",
        "       var = 0.025\n",
        "       sigma = var**0.5\n",
        "       gauss = np.random.normal(mean,sigma,(row,col,ch))\n",
        "       noisy = 255*(image + gauss)\n",
        "       noisy = noisy.astype(np.uint8)\n",
        "       return noisy\n",
        "  elif noise_type=='s&p':\n",
        "       row,col,ch = image.shape\n",
        "       s_vs_p = 0.5\n",
        "       amount = 0.04\n",
        "       out = np.copy(image)\n",
        "       # Salt mode\n",
        "       num_salt = np.ceil(amount * image.size * s_vs_p)\n",
        "       coords = [np.random.randint(0, i - 1, int(num_salt)) for i in image.shape]\n",
        "       out[coords] = 1.0\n",
        "       # Pepper mode\n",
        "       num_pepper = np.ceil(amount* image.size * (1. - s_vs_p))\n",
        "       coords = [np.random.randint(0, i - 1, int(num_pepper)) for i in image.shape]\n",
        "       out[coords] = 0.0\n",
        "       out = (255*out).astype(np.uint8)\n",
        "       return out"
      ],
      "execution_count": null,
      "outputs": []
    },
    {
      "cell_type": "code",
      "metadata": {
        "id": "_ei-_i5sDtvA"
      },
      "source": [
        "# read in test image\n",
        "image_url = image_url = \"https://upload.wikimedia.org/wikipedia/commons/thumb/9/98/Child_young_face_close_up.jpg/1024px-Child_young_face_close_up.jpg\"\n",
        "\n",
        "image = url_to_image(image_url)\n",
        "# Add noise to image\n",
        "noise_type=  'none'#'gauss'#'s&p'\n",
        "\n",
        "image = img_noise(image,noise_type)\n",
        "fig = plt.figure(figsize=(16,16))\n",
        "plt.imshow(image)\n",
        "\n",
        "\n"
      ],
      "execution_count": null,
      "outputs": []
    },
    {
      "cell_type": "markdown",
      "metadata": {
        "id": "W-RPgtdzM8ck"
      },
      "source": [
        "# Part 1: Convolution with Gaussian Kernel:\n",
        "In the code cell below we will generate a 2D gaussian kernel and convolve it with the input image. The [1D gaussian kernel](https://homepages.inf.ed.ac.uk/rbf/HIPR2/gsmooth.htm) is given by the equation shown on the linked page. The equation describes a 1D gaussian however it is straightforward to convert this to the 2D kernel by obtaining the [outer product](https://numpy.org/doc/stable/reference/generated/numpy.outer.html) of two 1D kernels. (Alternatively an equation for a 2D gaussian can be used). Note that as the sigma value increases, the kernel must be defined over a wider range of pixels."
      ]
    },
    {
      "cell_type": "code",
      "metadata": {
        "id": "lodeNy7OGBRU"
      },
      "source": [
        "def gauss_kernel(sigma):\n",
        "   k_size = int(6*sigma+1)\n",
        "   rng = (k_size-1)//2\n",
        "   x = np.arange(-rng,rng+1)\n",
        "   ### Your code here: ####\n",
        "   gauss_kernel =\n",
        "   gauss_kernel_2D =\n",
        "\n",
        "   return gauss_kernel_2D"
      ],
      "execution_count": null,
      "outputs": []
    },
    {
      "cell_type": "markdown",
      "source": [
        "We can visualise the kernels that can be produced using the `gauss_kernel` function."
      ],
      "metadata": {
        "id": "aqV5Ra69_kVx"
      }
    },
    {
      "cell_type": "code",
      "source": [
        "# Set a range of Sigma values to plot the kernel.\n",
        "sigma_vals = [1,2,3,4]\n",
        "num_filt = len(sigma_vals)\n",
        "\n",
        "# Plot the kernels (2D Intensity)\n",
        "def plot_filters(sigma_vals):\n",
        "   fig = plt.figure(figsize=(8,8))\n",
        "   i=1\n",
        "   for sigma in sigma_vals:\n",
        "     gauss_kernel_2D = gauss_kernel(sigma)\n",
        "     ax = fig.add_subplot(num_filt,2, i)\n",
        "     ax.imshow(gauss_kernel_2D,'gray')\n",
        "     i+=1\n",
        "plot_filters(sigma_vals)"
      ],
      "metadata": {
        "id": "6Heve0fV_tt1"
      },
      "execution_count": null,
      "outputs": []
    },
    {
      "cell_type": "markdown",
      "source": [
        "The image of balloons can be convolved with the 2D gaussian kernel for a specified value of sigma. Convolution can performed using the OpenCV Filter2D method as shown. Alternatively the SciPy [convolve 2D](https://docs.scipy.org/doc/scipy/reference/generated/scipy.signal.convolve2d.html) method can be used instead. (with convolve 2D the kernel must be applied across all 3 channel of the image inorder to process a colour image, wheras the filter2D method takes care of this problem)\n",
        "\n",
        "Run the gaussian filter with different values of sigma and observe the results."
      ],
      "metadata": {
        "id": "3ZlShTYRAhkQ"
      }
    },
    {
      "cell_type": "code",
      "metadata": {
        "id": "ejH_lshlw_vV"
      },
      "source": [
        "# Function that applies Gaussian Filter to Image\n",
        "def conv_image(image,sigma):\n",
        "   gauss_kernel_2D = gauss_kernel(sigma)\n",
        "\n",
        "   image_conv_0 = cv2.filter2D(src=image, ddepth=-1, kernel=gauss_kernel_2D)\n",
        "   return image_conv_0\n",
        ""
      ],
      "execution_count": null,
      "outputs": []
    },
    {
      "cell_type": "code",
      "metadata": {
        "id": "HtmN1-OkyJyA"
      },
      "source": [
        "# Set Sigma Value for Gaussian Filter\n",
        "sigma=\n",
        "\n",
        "# Apply Gaussian Filtering\n",
        "blur_image = conv_image(image,sigma)\n",
        "\n",
        "# Plot Orginal and Gaussian Filtered Image\n",
        "f, axarr = plt.subplots(1,2,figsize=(30,20))\n",
        "axarr[0].imshow(image,'gray')\n",
        "axarr[1].imshow(blur_image,'gray')"
      ],
      "execution_count": null,
      "outputs": []
    },
    {
      "cell_type": "markdown",
      "source": [
        "#Part 2: Non-linear Filters\n",
        "We will use the openCV implementations of the median and [bilateral filters](https://www.tutorialspoint.com/opencv/opencv_bilateral_filter.htm) to process the image. The noise type can be changed from 'none' to 'gauss' or 's&p' for Gaussian and Salt and Pepper noise. (See code cell above that reads image from URL to apply this change). You can observe the effect of gaussian and salt and pepper noise on the image and how well each filter type removes the noise, while also preserving the quality of the image.\n",
        "\n"
      ],
      "metadata": {
        "id": "TdMG7bnd6KLB"
      }
    },
    {
      "cell_type": "code",
      "source": [
        "# Size of kernel for median filter\n",
        "kernel_size = # kernel size should be a positive odd integer.\n",
        "\n",
        "# Apply Median Filtering\n",
        "median_filter = cv2.medianBlur(image,kernel_size)\n",
        "\n",
        "# Plot Original & Filtered Image\n",
        "f, axarr = plt.subplots(1,2,figsize=(20,16))\n",
        "axarr[0].imshow(image)\n",
        "axarr[1].imshow(median_filter)"
      ],
      "metadata": {
        "id": "l_FGYOQ6AOuc"
      },
      "execution_count": null,
      "outputs": []
    },
    {
      "cell_type": "code",
      "source": [
        "# Parameters for Bilateral filter\n",
        "kernel_size =\n",
        "sigma_colour =\n",
        "sigma_space =\n",
        "\n",
        "# Apply Bilateral Filtering\n",
        "bilateral_filter = cv2.bilateralFilter(image,kernel_size,sigma_colour,sigma_space)\n",
        "\n",
        "# Plot Original & Filtered Image\n",
        "f, axarr = plt.subplots(1,2,figsize=(20,16))\n",
        "axarr[0].imshow(image)\n",
        "axarr[1].imshow(bilateral_filter)"
      ],
      "metadata": {
        "id": "4NyB3h7WCcur"
      },
      "execution_count": null,
      "outputs": []
    },
    {
      "cell_type": "markdown",
      "source": [
        "# Questions:\n",
        "Leave your answers to the questions below in this text box.\n",
        "\n",
        "1. What happens to the image as the value of sigma is increased for the gaussian filter?\n",
        "2. Which filter removes salt and pepper noise the best? (Briefly Explain why this filter performs best)\n",
        "3. What settings for the bilateral filter give the best balance between noise removal and preserving edges?\n",
        "\n",
        "\n",
        "\n"
      ],
      "metadata": {
        "id": "QP96bo01u_Vi"
      }
    }
  ]
}
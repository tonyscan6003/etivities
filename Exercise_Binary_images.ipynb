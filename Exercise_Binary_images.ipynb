{
  "nbformat": 4,
  "nbformat_minor": 0,
  "metadata": {
    "colab": {
      "provenance": [],
      "authorship_tag": "ABX9TyO8pj89bT3zS0/jVIB67N9o",
      "include_colab_link": true
    },
    "kernelspec": {
      "name": "python3",
      "display_name": "Python 3"
    }
  },
  "cells": [
    {
      "cell_type": "markdown",
      "metadata": {
        "id": "view-in-github",
        "colab_type": "text"
      },
      "source": [
        "<a href=\"https://colab.research.google.com/github/tonyscan6003/etivities/blob/main/Exercise_Binary_images.ipynb\" target=\"_parent\"><img src=\"https://colab.research.google.com/assets/colab-badge.svg\" alt=\"Open In Colab\"/></a>"
      ]
    },
    {
      "cell_type": "markdown",
      "metadata": {
        "id": "SyIAmH67Wjuc"
      },
      "source": [
        "# Binary Images & Morphology\n",
        "In this exercise we will investiate working with binary images & morphoogy operations.\n",
        "\n"
      ]
    },
    {
      "cell_type": "code",
      "metadata": {
        "id": "dnKM2Qih-OzZ"
      },
      "source": [
        "# Import libraries\n",
        "import numpy as np\n",
        "import urllib.request\n",
        "import numpy as np\n",
        "import cv2\n",
        "from matplotlib import pyplot as plt\n",
        "\n",
        "# Function that allows test image to be read from the web\n",
        "def url_to_image(url):\n",
        "\tresp = urllib.request.urlopen(url)\n",
        "\ttemp_image = np.asarray(bytearray(resp.read()), dtype=\"uint8\")\n",
        "\ttemp_image = cv2.imdecode(temp_image, cv2.IMREAD_COLOR)\n",
        "\ttemp_image = cv2.cvtColor(temp_image, cv2.COLOR_BGR2RGB) # OpenCV defaults to BGR, but we need RGB here..\n",
        "\treturn temp_image\n",
        "\n",
        "# Add noise to binary image\n",
        "def img_noise(image):\n",
        "    image = image.astype(np.float32)/255\n",
        "    row,col,ch = image.shape\n",
        "    amount = 0.01\n",
        "    out = np.copy(image)\n",
        "    # Pepper mode\n",
        "    num_salt = np.ceil(amount * image.size)\n",
        "    coords = [np.random.randint(0, i - 1, int(num_salt)) for i in image.shape]\n",
        "    out[coords] = 1.0\n",
        "    out = (255*out).astype(np.uint8)\n",
        "    return out"
      ],
      "execution_count": null,
      "outputs": []
    },
    {
      "cell_type": "markdown",
      "source": [
        "##Exercise 1:\n",
        "Apply [Morphology operations](https://docs.opencv.org/3.4/d9/d61/tutorial_py_morphological_ops.html) to remove the noisy background pixels from the binary image of turtles.  Note that in the link provided the operations have 'cv' as the package name, in colab the OpenCV package is 'cv2'.\n"
      ],
      "metadata": {
        "id": "IuEcns_zHQum"
      }
    },
    {
      "cell_type": "code",
      "metadata": {
        "id": "_iyWLAUK_X4T"
      },
      "source": [
        "# read in test image\n",
        "image_url = \"https://upload.wikimedia.org/wikipedia/commons/thumb/e/ef/Green_Symbolic_Animal_Shapes_by_Trisorn_Triboon_45.png/320px-Green_Symbolic_Animal_Shapes_by_Trisorn_Triboon_45.png\"\n",
        "image = url_to_image(image_url)\n",
        "image = img_noise(image)\n",
        "# Convert to greyscale\n",
        "gray = cv2.cvtColor(image, cv2.COLOR_BGR2GRAY)\n",
        "# Convert to binary with Threhold operation\n",
        "ret,gray = cv2.threshold(gray,125,255, cv2.THRESH_BINARY)\n",
        "\n",
        "plt.imshow(gray,'gray')"
      ],
      "execution_count": null,
      "outputs": []
    },
    {
      "cell_type": "code",
      "metadata": {
        "id": "mTtuY6KicnFG"
      },
      "source": [
        "### Your Code Here ####"
      ],
      "execution_count": null,
      "outputs": []
    },
    {
      "cell_type": "markdown",
      "source": [
        "##Exercise 2:\n",
        "Apply [Morphology operations](https://docs.opencv.org/3.4/d9/d61/tutorial_py_morphological_ops.html) to fill in the holes in the starfish. The overall size of the starfish should not be increased or decreased by the operation(s)."
      ],
      "metadata": {
        "id": "NI7B14OkLuwt"
      }
    },
    {
      "cell_type": "code",
      "source": [
        "# read in test image\n",
        "image_url = \"https://upload.wikimedia.org/wikipedia/commons/thumb/2/24/Green_Symbolic_Animal_Shapes_by_Trisorn_Triboon_35.png/320px-Green_Symbolic_Animal_Shapes_by_Trisorn_Triboon_35.png\"\n",
        "image = url_to_image(image_url)\n",
        "# Convert to greyscale\n",
        "gray = cv2.cvtColor(image, cv2.COLOR_BGR2GRAY)\n",
        "# Convert to binary with Threhold operation\n",
        "ret,gray = cv2.threshold(gray,125,255, cv2.THRESH_BINARY)\n",
        "plt.imshow(gray,'gray')"
      ],
      "metadata": {
        "id": "kYJ8fDdJMd9k"
      },
      "execution_count": null,
      "outputs": []
    },
    {
      "cell_type": "code",
      "source": [
        "### Your Code Here ####"
      ],
      "metadata": {
        "id": "vrL0wkZSM4u8"
      },
      "execution_count": null,
      "outputs": []
    },
    {
      "cell_type": "markdown",
      "source": [
        "##Exercise 3:\n",
        "Apply [Morphology operations](https://docs.opencv.org/3.4/d9/d61/tutorial_py_morphological_ops.html) to find the outline (edges) of the image of the Gorilla. Hint: This can achieved by subracting the image after a morphological operation is applied from the original image."
      ],
      "metadata": {
        "id": "E4dh_Yul8ZWb"
      }
    },
    {
      "cell_type": "code",
      "source": [
        "# read in test images\n",
        "image_url = \"https://upload.wikimedia.org/wikipedia/commons/thumb/5/5e/White_World_of_Symbolic_Animal_Shapes_by_Trisorn_Triboon_06.png/320px-White_World_of_Symbolic_Animal_Shapes_by_Trisorn_Triboon_06.png\"\n",
        "image = url_to_image(image_url)\n",
        "# Convert to greyscale\n",
        "gray = cv2.cvtColor(image, cv2.COLOR_BGR2GRAY)\n",
        "# Convert to binary with Threhold operation\n",
        "ret,gray = cv2.threshold(gray,125,255, cv2.THRESH_BINARY)\n",
        "plt.imshow(gray,'gray')"
      ],
      "metadata": {
        "id": "8bju8-C-93f6"
      },
      "execution_count": null,
      "outputs": []
    },
    {
      "cell_type": "code",
      "source": [
        "### Your Code Here ####\n"
      ],
      "metadata": {
        "id": "2uGnsnyFAAj6"
      },
      "execution_count": null,
      "outputs": []
    },
    {
      "cell_type": "markdown",
      "source": [
        "##Exercise 4:\n",
        "We would like to extract the pattern in the centre of the bettles using morphology operations. Hint: This can achieved by subracting the image after a morphological operation is applied from the original image."
      ],
      "metadata": {
        "id": "aVW0m113F_JQ"
      }
    },
    {
      "cell_type": "code",
      "source": [
        "# read in test images\n",
        "image_url = \"https://upload.wikimedia.org/wikipedia/commons/thumb/c/ce/White_World_of_Symbolic_Animal_Shapes_by_Trisorn_Triboon_41.png/320px-White_World_of_Symbolic_Animal_Shapes_by_Trisorn_Triboon_41.png\"\n",
        "image = url_to_image(image_url)\n",
        "# Convert to greyscale\n",
        "gray = cv2.cvtColor(image, cv2.COLOR_BGR2GRAY)\n",
        "# Convert to binary with Threhold operation\n",
        "ret,gray = cv2.threshold(gray,125,255, cv2.THRESH_BINARY)\n",
        "plt.imshow(gray,'gray')"
      ],
      "metadata": {
        "id": "9ZPx7YI0KbDv"
      },
      "execution_count": null,
      "outputs": []
    },
    {
      "cell_type": "code",
      "source": [
        "### Your Code Here ####\n"
      ],
      "metadata": {
        "id": "XyVHzgkhLHSG"
      },
      "execution_count": null,
      "outputs": []
    }
  ]
}
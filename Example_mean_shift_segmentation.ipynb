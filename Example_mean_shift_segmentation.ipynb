{
  "nbformat": 4,
  "nbformat_minor": 0,
  "metadata": {
    "colab": {
      "provenance": [],
      "authorship_tag": "ABX9TyMDJof6aEsB0TkkNZqNvtFB",
      "include_colab_link": true
    },
    "kernelspec": {
      "name": "python3",
      "display_name": "Python 3"
    }
  },
  "cells": [
    {
      "cell_type": "markdown",
      "metadata": {
        "id": "view-in-github",
        "colab_type": "text"
      },
      "source": [
        "<a href=\"https://colab.research.google.com/github/tonyscan6003/etivities/blob/main/Example_mean_shift_segmentation.ipynb\" target=\"_parent\"><img src=\"https://colab.research.google.com/assets/colab-badge.svg\" alt=\"Open In Colab\"/></a>"
      ]
    },
    {
      "cell_type": "markdown",
      "metadata": {
        "id": "eFweT2fQZXA5"
      },
      "source": [
        "# Mean Shift Segmentation\n",
        "\n",
        "In this example we will simply use the sklearn [mean shift algorithm](https://scikit-learn.org/stable/modules/clustering.html#mean-shift) to perform segmentation using by clustering.\n",
        "The clustering is peformed on the image in the LUV color space.\n",
        "As oppsed to clustering with kmeans where the number of clustering centres is chosen a-priori with the mean shift algorithm, the MeanShift \"bandwidth\" parameter determines the number of cluster centres. This must be chosen by trial and error for a given image."
      ]
    },
    {
      "cell_type": "markdown",
      "metadata": {
        "id": "WbHkcM9ra-ZB"
      },
      "source": [
        "**Housekeeping:** Import Packages, read image and output both RGB and LUV versions of the image."
      ]
    },
    {
      "cell_type": "code",
      "metadata": {
        "id": "sZXJXb2VDqFV"
      },
      "source": [
        "import numpy as np\n",
        "from sklearn.cluster import MeanShift\n",
        "from sklearn import preprocessing\n",
        "import matplotlib.pyplot as plt\n",
        "import urllib.request\n",
        "import cv2"
      ],
      "execution_count": null,
      "outputs": []
    },
    {
      "cell_type": "code",
      "metadata": {
        "id": "kFCSWjdbFLwe"
      },
      "source": [
        "# Function to load image, rescale and output RGB & LUV\n",
        "sf =3\n",
        "def url_to_image(url):\n",
        "   resp = urllib.request.urlopen(url)\n",
        "   temp_image = np.asarray(bytearray(resp.read()),dtype=\"uint8\")\n",
        "   temp_image = cv2.imdecode(temp_image, cv2.IMREAD_COLOR)\n",
        "   x,y,z = np.shape(temp_image)\n",
        "   rescale_image = cv2.resize(temp_image, (int(y/sf),int(x/sf)),interpolation=cv2.INTER_CUBIC)\n",
        "   # Note rgb must be in the range 0->1 in order to properly convert to LUV.\n",
        "   RGB_image = cv2.cvtColor(rescale_image, cv2.COLOR_BGR2RGB).astype(np.float32)/255.0\n",
        "   Luv_image = cv2.cvtColor(RGB_image, cv2.COLOR_RGB2Luv)\n",
        "   return Luv_image,RGB_image"
      ],
      "execution_count": null,
      "outputs": []
    },
    {
      "cell_type": "code",
      "metadata": {
        "id": "_ei-_i5sDtvA"
      },
      "source": [
        "# read in test image\n",
        "image_url = \"https://upload.wikimedia.org/wikipedia/commons/thumb/5/58/Campus_WU_LC_D1_TC_DSC_1440w.jpg/1280px-Campus_WU_LC_D1_TC_DSC_1440w.jpg\"\n",
        "Luv_image,RGB_image = url_to_image(image_url)\n",
        "plt.imshow(RGB_image)\n",
        "\n"
      ],
      "execution_count": null,
      "outputs": []
    },
    {
      "cell_type": "markdown",
      "metadata": {
        "id": "5TL4QqhB4Hh2"
      },
      "source": [
        "# Plot Feature Space\n",
        "We will create a 3D plot of the image pixels in LUV color space. The mean shift algorithm aims to find regions of highest density of points which will correspond to the cluster centres."
      ]
    },
    {
      "cell_type": "code",
      "metadata": {
        "id": "m5XkYGoI3QbF"
      },
      "source": [
        "# PLot Feature Space.\n",
        "fig = plt.figure(figsize=(5,5))\n",
        "ax = fig.add_subplot(1, 1, 1, projection='3d')\n",
        "surf = ax.scatter(Luv_image[:,:,0], Luv_image[:,:,1], Luv_image[:,:,2],s=0.005)\n",
        "ax.title.set_text('Scatter Plot Luv Color Space')\n",
        "\n"
      ],
      "execution_count": null,
      "outputs": []
    },
    {
      "cell_type": "markdown",
      "metadata": {
        "id": "9dwAc_Z1pjG5"
      },
      "source": [
        "# Mean Shift Clustering Algorithm\n",
        "\n",
        "The sklearn mean shift clustering algorithm is used to perform clustering with LUV color space.\n",
        "\n",
        "Note: In the paper by Comaniciu that introducted the segmentation with the mean shift algorithm, spatial information was also included in the determination of cluster centres. This will produce better quality segmentation. However this requires modification of the mean shift algorithm to support joint domains which is not supported by the mean shift algorithm available with scipy.\n",
        "\n",
        "Comaniciu, D. and Meer, P., 2002. Mean shift: A robust approach toward feature space analysis. IEEE Transactions on pattern analysis and machine intelligence, 24(5), pp.603-619.\n"
      ]
    },
    {
      "cell_type": "code",
      "metadata": {
        "id": "GiMwSNrE87op"
      },
      "source": [
        "# Form feature vector from image (form image to n x 3 vector)\n",
        "x,y,n = np.shape(Luv_image)\n",
        "luv_feat_vec = np.reshape(Luv_image,(x*y,n))\n",
        "\n",
        "# Just use 2 channels L,v or u,v for clustering\n",
        "feat_vec = luv_feat_vec\n"
      ],
      "execution_count": null,
      "outputs": []
    },
    {
      "cell_type": "code",
      "metadata": {
        "id": "KecxWhG1FqAK"
      },
      "source": [
        "# Apply Scipy MeanShift Algotithm\n",
        "clustering = MeanShift(bandwidth=12,bin_seeding=True).fit(feat_vec)\n",
        "# Cluster labels and centres\n",
        "c_lables = clustering.labels_\n",
        "c_centres = clustering.cluster_centers_\n",
        "# Determine which pixels are allocated to which cluster centres.\n",
        "allocated_centres=clustering.predict(feat_vec)"
      ],
      "execution_count": null,
      "outputs": []
    },
    {
      "cell_type": "code",
      "metadata": {
        "id": "hXlfGnpN9fpO"
      },
      "source": [
        "# Assign the cluster centre value to pixels in each cluster.\n",
        "# Values are assigned as Luv convert to RGB at later point\n",
        "ptr = 0\n",
        "col_vec = np.zeros((x*y,n))\n",
        "for cc in allocated_centres:\n",
        "   col_vec[ptr,0:3] =  c_centres[cc]\n",
        "   ptr +=1\n",
        "# Segmented image\n",
        "seg_img = np.reshape(col_vec,(x,y,n))"
      ],
      "execution_count": null,
      "outputs": []
    },
    {
      "cell_type": "code",
      "metadata": {
        "id": "pIRQ-A1ueyts"
      },
      "source": [
        "#convert Luv values from seg img back into RGB\n",
        "seg_img_rgb=cv2.cvtColor(seg_img.astype(np.float32), cv2.COLOR_Luv2RGB)"
      ],
      "execution_count": null,
      "outputs": []
    },
    {
      "cell_type": "code",
      "metadata": {
        "id": "XmcZOaOEFPCz"
      },
      "source": [
        "#Plot segmented image\n",
        "f, axarr = plt.subplots(1,2,figsize=(15,11))\n",
        "axarr[0].imshow(RGB_image)\n",
        "axarr[0].title.set_text('Input Image')\n",
        "axarr[0].axis('off')\n",
        "axarr[1].imshow((seg_img_rgb))\n",
        "axarr[1].title.set_text('Segmented Image')\n",
        "axarr[1].axis('off')\n"
      ],
      "execution_count": null,
      "outputs": []
    }
  ]
}
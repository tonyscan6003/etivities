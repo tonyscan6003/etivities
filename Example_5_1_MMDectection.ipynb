{
  "nbformat": 4,
  "nbformat_minor": 0,
  "metadata": {
    "colab": {
      "provenance": [],
      "collapsed_sections": [],
      "authorship_tag": "ABX9TyOyk48/b+/NfgG8y++0KEBF",
      "include_colab_link": true
    },
    "kernelspec": {
      "name": "python3",
      "display_name": "Python 3"
    },
    "language_info": {
      "name": "python"
    },
    "accelerator": "GPU"
  },
  "cells": [
    {
      "cell_type": "markdown",
      "metadata": {
        "id": "view-in-github",
        "colab_type": "text"
      },
      "source": [
        "<a href=\"https://colab.research.google.com/github/tonyscan6003/etivities/blob/main/Example_5_1_MMDectection.ipynb\" target=\"_parent\"><img src=\"https://colab.research.google.com/assets/colab-badge.svg\" alt=\"Open In Colab\"/></a>"
      ]
    },
    {
      "cell_type": "markdown",
      "source": [
        "\n",
        "![](https://raw.githubusercontent.com/open-mmlab/mmdetection/master/resources/mmdet-logo.png)\n",
        "\n",
        "In this example notebook we will look at the popular open source [MMdetection Framework](https://mmdetection.readthedocs.io/en/stable/), which allows inference and training with many well known object detection and semantic segmentation models. This framework may be useful for dissertation projects requiring object detection."
      ],
      "metadata": {
        "id": "sEuy6XtP7VaY"
      }
    },
    {
      "cell_type": "markdown",
      "source": [
        "#Housekeeping\n",
        " Install MMdetection python package"
      ],
      "metadata": {
        "id": "X2RgL-zZ77Qs"
      }
    },
    {
      "cell_type": "code",
      "execution_count": null,
      "metadata": {
        "id": "FyjV3lOB7QsX"
      },
      "outputs": [],
      "source": [
        "!pip3 install openmim\n",
        "!mim install mmcv-full"
      ]
    },
    {
      "cell_type": "code",
      "source": [
        "!git clone https://github.com/open-mmlab/mmdetection.git\n",
        "%cd mmdetection\n",
        "!pip install -e ."
      ],
      "metadata": {
        "id": "2nAOYBrb-Nqw"
      },
      "execution_count": null,
      "outputs": []
    },
    {
      "cell_type": "markdown",
      "source": [
        "Verify Installation"
      ],
      "metadata": {
        "id": "Zd-Re2uZ-sKD"
      }
    },
    {
      "cell_type": "code",
      "source": [
        "import mmdet\n",
        "print(mmdet.__version__)\n",
        "# Example output: 2.23.0"
      ],
      "metadata": {
        "id": "2wdHB3mr-rv8"
      },
      "execution_count": null,
      "outputs": []
    },
    {
      "cell_type": "markdown",
      "source": [
        "# Object Detection (Inference on single Image)\n",
        "We will now demonstrate object detection on web images (you can test the performance of the Faster-RCNN model on various images by changing the URL below). "
      ],
      "metadata": {
        "id": "CCSNLsXgAXSN"
      }
    },
    {
      "cell_type": "code",
      "source": [
        "url_image = \"https://upload.wikimedia.org/wikipedia/commons/thumb/2/2b/Sevenpenny_Restaurant_in_Greymouth.jpg/1024px-Sevenpenny_Restaurant_in_Greymouth.jpg\""
      ],
      "metadata": {
        "id": "uszwc0HiCBCv"
      },
      "execution_count": 4,
      "outputs": []
    },
    {
      "cell_type": "markdown",
      "source": [
        "Calling pretrained models in MMdetection requires "
      ],
      "metadata": {
        "id": "tYmMMEXFNSEU"
      }
    },
    {
      "cell_type": "code",
      "source": [
        "!mkdir checkpoints\n",
        "!apt-get install wget\n",
        "!wget -P /content/mmdetection/checkpoints https://download.openmmlab.com/mmdetection/v2.0/faster_rcnn/faster_rcnn_r50_fpn_1x_coco/faster_rcnn_r50_fpn_1x_coco_20200130-047c8118.pth \n",
        "!wget -P /content/mmdetection/checkpoints https://download.openmmlab.com/mmdetection/v2.0/mask_rcnn/mask_rcnn_r50_fpn_1x_coco/mask_rcnn_r50_fpn_1x_coco_20200205-d4b0c5d6.pth "
      ],
      "metadata": {
        "id": "qV1wsCoIA9-c"
      },
      "execution_count": null,
      "outputs": []
    },
    {
      "cell_type": "code",
      "source": [
        "from mmdet.apis import init_detector, inference_detector\n",
        "import mmcv\n",
        "import numpy as np\n",
        "import matplotlib.pyplot as plt"
      ],
      "metadata": {
        "id": "YMH7JpWmIiEC"
      },
      "execution_count": 6,
      "outputs": []
    },
    {
      "cell_type": "code",
      "source": [
        "!wget -O image.jpg \"https://upload.wikimedia.org/wikipedia/commons/thumb/e/eb/Sheep_in_Dipkarpaz%2C_Northern_Cyprus.jpg/1200px-Sheep_in_Dipkarpaz%2C_Northern_Cyprus.jpg?20190416040547\"\n"
      ],
      "metadata": {
        "id": "AynrPNObzZMA"
      },
      "execution_count": null,
      "outputs": []
    },
    {
      "cell_type": "code",
      "source": [
        "\n",
        "# Specify the path to model config and checkpoint file\n",
        "config_file = 'configs/faster_rcnn/faster_rcnn_r50_fpn_1x_coco.py'\n",
        "checkpoint_file = 'checkpoints/faster_rcnn_r50_fpn_1x_coco_20200130-047c8118.pth'\n",
        "\n",
        "# build the model from a config file and a checkpoint file\n",
        "model = init_detector(config_file, checkpoint_file, device='cuda:0')\n",
        "\n",
        "\n",
        "img = 'image.jpg'\n",
        "result = inference_detector(model, img)\n",
        "\n",
        "# or save the visualization results to image files\n",
        "model.show_result(img, result, out_file='result.jpg')"
      ],
      "metadata": {
        "id": "PTUK0OsiBWJU"
      },
      "execution_count": null,
      "outputs": []
    },
    {
      "cell_type": "markdown",
      "source": [
        "Display Result Image"
      ],
      "metadata": {
        "id": "oD1oI7SvM3r2"
      }
    },
    {
      "cell_type": "code",
      "source": [
        "import cv2\n",
        "plt.figure(figsize=(20,20))\n",
        "plt.axis =('off')\n",
        "result_img = cv2.imread('result.jpg')\n",
        "result_img = cv2.cvtColor(result_img, cv2.COLOR_BGR2RGB)\n",
        "plt.imshow(result_img)"
      ],
      "metadata": {
        "id": "ta7QMjo_Cj-8"
      },
      "execution_count": null,
      "outputs": []
    },
    {
      "cell_type": "markdown",
      "source": [
        "# Semantic Segmentation (Inference on single Image)\n",
        "The mask RCNN can be used to perform semantic segmentation as well as object detection on an image."
      ],
      "metadata": {
        "id": "YhSRX7W9HYK6"
      }
    },
    {
      "cell_type": "code",
      "source": [
        "!wget -O image2.jpg \"https://upload.wikimedia.org/wikipedia/commons/thumb/c/ce/Rancher_Moving_Cattle.jpg/1280px-Rancher_Moving_Cattle.jpg\""
      ],
      "metadata": {
        "id": "cnQ8GTAn1so3"
      },
      "execution_count": null,
      "outputs": []
    },
    {
      "cell_type": "code",
      "source": [
        "# Specify the path to model config and checkpoint file\n",
        "config_file = 'configs/mask_rcnn/mask_rcnn_r50_fpn_1x_coco.py'\n",
        "checkpoint_file = 'checkpoints/mask_rcnn_r50_fpn_1x_coco_20200205-d4b0c5d6.pth'\n",
        "\n",
        "# build the model from a config file and a checkpoint file\n",
        "model = init_detector(config_file, checkpoint_file, device='cuda:0')\n",
        "\n",
        "\n",
        "img = 'image2.jpg'#, which will only load it once\n",
        "result = inference_detector(model, img)\n",
        "\n",
        "# or save the visualization results to image files\n",
        "model.show_result(img, result, out_file='result.jpg')"
      ],
      "metadata": {
        "colab": {
          "base_uri": "https://localhost:8080/"
        },
        "id": "cl_k5_O5Hva8",
        "outputId": "be60e2d2-1d21-455a-b6d8-f19b913b137b"
      },
      "execution_count": 11,
      "outputs": [
        {
          "output_type": "stream",
          "name": "stdout",
          "text": [
            "load checkpoint from local path: checkpoints/mask_rcnn_r50_fpn_1x_coco_20200205-d4b0c5d6.pth\n"
          ]
        }
      ]
    },
    {
      "cell_type": "code",
      "source": [
        "import cv2\n",
        "plt.figure(figsize=(20,20))\n",
        "plt.axis =('off')\n",
        "result_img = cv2.imread('result.jpg')\n",
        "result_img = cv2.cvtColor(result_img, cv2.COLOR_BGR2RGB)\n",
        "plt.imshow(result_img)"
      ],
      "metadata": {
        "id": "0mqVYBgZJEvJ"
      },
      "execution_count": null,
      "outputs": []
    }
  ]
}